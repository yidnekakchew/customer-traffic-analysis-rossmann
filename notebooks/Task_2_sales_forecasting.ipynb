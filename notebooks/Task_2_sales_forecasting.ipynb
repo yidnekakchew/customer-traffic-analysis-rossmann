{
 "cells": [
  {
   "cell_type": "code",
   "execution_count": 5,
   "metadata": {},
   "outputs": [],
   "source": [
    "import pandas as pd\n",
    "import numpy as np\n",
    "import matplotlib.pyplot as plt\n",
    "import seaborn as sns\n",
    "from sklearn.model_selection import train_test_split\n",
    "from sklearn.preprocessing import StandardScaler\n",
    "from sklearn.ensemble import RandomForestRegressor\n",
    "from sklearn.pipeline import Pipeline\n",
    "from sklearn.metrics import mean_squared_error\n",
    "import joblib\n",
    "import tensorflow as tf\n",
    "from tensorflow import keras\n",
    "from tensorflow.keras import layers\n",
    "from statsmodels.tsa.stattools import adfuller, acf, pacf"
   ]
  },
  {
   "cell_type": "code",
   "execution_count": 6,
   "metadata": {},
   "outputs": [
    {
     "name": "stdout",
     "output_type": "stream",
     "text": [
      "         Date  Store   Store_Type  Store_Status  Promo  Promo2  \\\n",
      "0  2021-01-01      1  supermarket             1      0       0   \n",
      "1  2021-01-02      1     pharmacy             1      0       0   \n",
      "2  2021-01-03      1  supermarket             1      1       0   \n",
      "3  2021-01-04      1  supermarket             0      1       0   \n",
      "4  2021-01-05      1     pharmacy             1      1       0   \n",
      "\n",
      "   School_Holiday  Customers  Sales  \n",
      "0               0        124      0  \n",
      "1               0         87      0  \n",
      "2               0         74    778  \n",
      "3               0          0      0  \n",
      "4               0         76   1002  \n"
     ]
    }
   ],
   "source": [
    "# Load the dataset\n",
    "data_path = r'E:\\Kifiya\\Week 4\\Challenge wk\\customer-traffic-analysis-rossmann\\data\\synthetic_sales_data.csv'\n",
    "sales_data = pd.read_csv(data_path)\n",
    "\n",
    "# Display the first few rows of the dataset\n",
    "print(sales_data.head())"
   ]
  },
  {
   "cell_type": "code",
   "execution_count": 7,
   "metadata": {},
   "outputs": [
    {
     "name": "stdout",
     "output_type": "stream",
     "text": [
      "Date              0\n",
      "Store             0\n",
      "Store_Type        0\n",
      "Store_Status      0\n",
      "Promo             0\n",
      "Promo2            0\n",
      "School_Holiday    0\n",
      "Customers         0\n",
      "Sales             0\n",
      "dtype: int64\n"
     ]
    }
   ],
   "source": [
    "# Check for missing values\n",
    "print(sales_data.isnull().sum())\n",
    "\n",
    "# Fill missing values or handle them accordingly\n",
    "sales_data.fillna(0, inplace=True)  # Assuming missing values mean 0"
   ]
  },
  {
   "cell_type": "code",
   "execution_count": 8,
   "metadata": {},
   "outputs": [
    {
     "name": "stdout",
     "output_type": "stream",
     "text": [
      "        Date  Store  Promo  Promo2  School_Holiday  Customers  Sales  Weekday  \\\n",
      "0 2021-01-01      1      0       0               0        124      0        4   \n",
      "1 2021-01-02      1      0       0               0         87      0        5   \n",
      "2 2021-01-03      1      1       0               0         74    778        6   \n",
      "3 2021-01-04      1      1       0               0          0      0        0   \n",
      "4 2021-01-05      1      1       0               0         76   1002        1   \n",
      "\n",
      "   Weekend  Day  Month  Year  Store_Type_pharmacy  Store_Type_supermarket  \\\n",
      "0        0    1      1  2021                False                    True   \n",
      "1        1    2      1  2021                 True                   False   \n",
      "2        1    3      1  2021                False                    True   \n",
      "3        0    4      1  2021                False                    True   \n",
      "4        0    5      1  2021                 True                   False   \n",
      "\n",
      "   Store_Status_1  \n",
      "0            True  \n",
      "1            True  \n",
      "2            True  \n",
      "3           False  \n",
      "4            True  \n"
     ]
    }
   ],
   "source": [
    "# Convert Date column to datetime\n",
    "sales_data['Date'] = pd.to_datetime(sales_data['Date'])\n",
    "\n",
    "# Extract additional features\n",
    "sales_data['Weekday'] = sales_data['Date'].dt.weekday\n",
    "sales_data['Weekend'] = (sales_data['Weekday'] >= 5).astype(int)\n",
    "sales_data['Day'] = sales_data['Date'].dt.day\n",
    "sales_data['Month'] = sales_data['Date'].dt.month\n",
    "sales_data['Year'] = sales_data['Date'].dt.year\n",
    "\n",
    "# Convert categorical variables into dummy/indicator variables\n",
    "sales_data = pd.get_dummies(sales_data, columns=['Store_Type', 'Store_Status'], drop_first=True)\n",
    "\n",
    "# Display the first few rows after feature engineering\n",
    "print(sales_data.head())"
   ]
  },
  {
   "cell_type": "code",
   "execution_count": 9,
   "metadata": {},
   "outputs": [
    {
     "name": "stdout",
     "output_type": "stream",
     "text": [
      "            Store  Sales\n",
      "Date                    \n",
      "2021-01-01      1      0\n",
      "2021-01-01      2   1261\n",
      "2021-01-01      3      0\n",
      "2021-01-01      4    123\n",
      "2021-01-01      5      3\n"
     ]
    }
   ],
   "source": [
    "# Aggregate sales data by date and store\n",
    "time_series_data = sales_data.groupby(['Date', 'Store'])['Sales'].sum().reset_index()\n",
    "\n",
    "# Set Date as index\n",
    "time_series_data.set_index('Date', inplace=True)\n",
    "\n",
    "# Display the aggregated data\n",
    "print(time_series_data.head())"
   ]
  },
  {
   "cell_type": "code",
   "execution_count": 10,
   "metadata": {},
   "outputs": [
    {
     "name": "stdout",
     "output_type": "stream",
     "text": [
      "ADF Statistic: -104.36554529679721\n",
      "p-value: 0.0\n",
      "The time series is stationary.\n"
     ]
    }
   ],
   "source": [
    "result = adfuller(time_series_data['Sales'].dropna())\n",
    "print('ADF Statistic:', result[0])\n",
    "print('p-value:', result[1])\n",
    "\n",
    "# Interpretation\n",
    "if result[1] <= 0.05:\n",
    "    print(\"The time series is stationary.\")\n",
    "else:\n",
    "    print(\"The time series is not stationary.\")"
   ]
  },
  {
   "cell_type": "code",
   "execution_count": 11,
   "metadata": {},
   "outputs": [
    {
     "name": "stdout",
     "output_type": "stream",
     "text": [
      "ADF Statistic: -104.36554529679721\n",
      "p-value: 0.0\n"
     ]
    }
   ],
   "source": [
    "if result[1] > 0.05:\n",
    "    time_series_data['Sales'] = time_series_data['Sales'].diff().dropna()\n",
    "\n",
    "# Check the result again\n",
    "result = adfuller(time_series_data['Sales'].dropna())\n",
    "print('ADF Statistic:', result[0])\n",
    "print('p-value:', result[1])"
   ]
  },
  {
   "cell_type": "code",
   "execution_count": 12,
   "metadata": {},
   "outputs": [
    {
     "data": {
      "image/png": "[encoded data removed]",
      "text/plain": [
       "<Figure size 1200x800 with 2 Axes>"
      ]
     },
     "metadata": {},
     "output_type": "display_data"
    }
   ],
   "source": [
    "fig, ax = plt.subplots(2, 1, figsize=(12, 8))\n",
    "\n",
    "# ACF\n",
    "acf_values = acf(time_series_data['Sales'].dropna())\n",
    "ax[0].stem(acf_values)\n",
    "ax[0].set_title('Autocorrelation Function (ACF)')\n",
    "ax[0].set_xlabel('Lag')\n",
    "ax[0].set_ylabel('ACF')\n",
    "\n",
    "# PACF\n",
    "pacf_values = pacf(time_series_data['Sales'].dropna())\n",
    "ax[1].stem(pacf_values)\n",
    "ax[1].set_title('Partial Autocorrelation Function (PACF)')\n",
    "ax[1].set_xlabel('Lag')\n",
    "ax[1].set_ylabel('PACF')\n",
    "\n",
    "plt.tight_layout()\n",
    "plt.show()"
   ]
  },
  {
   "cell_type": "code",
   "execution_count": 13,
   "metadata": {},
   "outputs": [
    {
     "name": "stdout",
     "output_type": "stream",
     "text": [
      "Shape of X: (10942, 7, 1)\n",
      "Shape of y: (10942,)\n"
     ]
    }
   ],
   "source": [
    "def create_dataset(data, time_step=1):\n",
    "    X, y = [], []\n",
    "    for i in range(len(data) - time_step - 1):\n",
    "        X.append(data[i:(i + time_step), 0])\n",
    "        y.append(data[i + time_step, 0])\n",
    "    return np.array(X), np.array(y)\n",
    "\n",
    "# Scale data\n",
    "scaler = StandardScaler()\n",
    "scaled_data = scaler.fit_transform(time_series_data[['Sales']].dropna())\n",
    "\n",
    "# Create datasets\n",
    "time_step = 7  # Use 7 days of data to predict the next day\n",
    "X, y = create_dataset(scaled_data, time_step)\n",
    "X = X.reshape(X.shape[0], X.shape[1], 1)  # Reshape for LSTM\n",
    "\n",
    "# Display shapes\n",
    "print(f'Shape of X: {X.shape}')\n",
    "print(f'Shape of y: {y.shape}')"
   ]
  },
  {
   "cell_type": "code",
   "execution_count": 16,
   "metadata": {},
   "outputs": [],
   "source": [
    "# Import essential libraries\n",
    "import pandas as pd\n",
    "import numpy as np\n",
    "import matplotlib.pyplot as plt\n",
    "import seaborn as sns\n",
    "from sklearn.model_selection import train_test_split\n",
    "from sklearn.preprocessing import StandardScaler\n",
    "from sklearn.ensemble import RandomForestRegressor\n",
    "from sklearn.pipeline import Pipeline\n",
    "from sklearn.metrics import mean_squared_error\n",
    "import joblib\n",
    "import datetime\n",
    "\n",
    "# For deep learning (LSTM)\n",
    "import tensorflow as tf\n",
    "from tensorflow.keras.models import Sequential\n",
    "from tensorflow.keras.layers import LSTM, Dense\n",
    "from sklearn.preprocessing import MinMaxScaler\n"
   ]
  },
  {
   "cell_type": "markdown",
   "metadata": {},
   "source": [
    "Step 2: Load the Dataset\n",
    "Now, we load the synthetic_sales_data.csv dataset from your folder."
   ]
  },
  {
   "cell_type": "code",
   "execution_count": 17,
   "metadata": {},
   "outputs": [
    {
     "data": {
      "text/html": [
       "<div>\n",
       "<style scoped>\n",
       "    .dataframe tbody tr th:only-of-type {\n",
       "        vertical-align: middle;\n",
       "    }\n",
       "\n",
       "    .dataframe tbody tr th {\n",
       "        vertical-align: top;\n",
       "    }\n",
       "\n",
       "    .dataframe thead th {\n",
       "        text-align: right;\n",
       "    }\n",
       "</style>\n",
       "<table border=\"1\" class=\"dataframe\">\n",
       "  <thead>\n",
       "    <tr style=\"text-align: right;\">\n",
       "      <th></th>\n",
       "      <th>Date</th>\n",
       "      <th>Store</th>\n",
       "      <th>Store_Type</th>\n",
       "      <th>Store_Status</th>\n",
       "      <th>Promo</th>\n",
       "      <th>Promo2</th>\n",
       "      <th>School_Holiday</th>\n",
       "      <th>Customers</th>\n",
       "      <th>Sales</th>\n",
       "    </tr>\n",
       "  </thead>\n",
       "  <tbody>\n",
       "    <tr>\n",
       "      <th>0</th>\n",
       "      <td>2021-01-01</td>\n",
       "      <td>1</td>\n",
       "      <td>supermarket</td>\n",
       "      <td>1</td>\n",
       "      <td>0</td>\n",
       "      <td>0</td>\n",
       "      <td>0</td>\n",
       "      <td>124</td>\n",
       "      <td>0</td>\n",
       "    </tr>\n",
       "    <tr>\n",
       "      <th>1</th>\n",
       "      <td>2021-01-02</td>\n",
       "      <td>1</td>\n",
       "      <td>pharmacy</td>\n",
       "      <td>1</td>\n",
       "      <td>0</td>\n",
       "      <td>0</td>\n",
       "      <td>0</td>\n",
       "      <td>87</td>\n",
       "      <td>0</td>\n",
       "    </tr>\n",
       "    <tr>\n",
       "      <th>2</th>\n",
       "      <td>2021-01-03</td>\n",
       "      <td>1</td>\n",
       "      <td>supermarket</td>\n",
       "      <td>1</td>\n",
       "      <td>1</td>\n",
       "      <td>0</td>\n",
       "      <td>0</td>\n",
       "      <td>74</td>\n",
       "      <td>778</td>\n",
       "    </tr>\n",
       "    <tr>\n",
       "      <th>3</th>\n",
       "      <td>2021-01-04</td>\n",
       "      <td>1</td>\n",
       "      <td>supermarket</td>\n",
       "      <td>0</td>\n",
       "      <td>1</td>\n",
       "      <td>0</td>\n",
       "      <td>0</td>\n",
       "      <td>0</td>\n",
       "      <td>0</td>\n",
       "    </tr>\n",
       "    <tr>\n",
       "      <th>4</th>\n",
       "      <td>2021-01-05</td>\n",
       "      <td>1</td>\n",
       "      <td>pharmacy</td>\n",
       "      <td>1</td>\n",
       "      <td>1</td>\n",
       "      <td>0</td>\n",
       "      <td>0</td>\n",
       "      <td>76</td>\n",
       "      <td>1002</td>\n",
       "    </tr>\n",
       "  </tbody>\n",
       "</table>\n",
       "</div>"
      ],
      "text/plain": [
       "         Date  Store   Store_Type  Store_Status  Promo  Promo2  \\\n",
       "0  2021-01-01      1  supermarket             1      0       0   \n",
       "1  2021-01-02      1     pharmacy             1      0       0   \n",
       "2  2021-01-03      1  supermarket             1      1       0   \n",
       "3  2021-01-04      1  supermarket             0      1       0   \n",
       "4  2021-01-05      1     pharmacy             1      1       0   \n",
       "\n",
       "   School_Holiday  Customers  Sales  \n",
       "0               0        124      0  \n",
       "1               0         87      0  \n",
       "2               0         74    778  \n",
       "3               0          0      0  \n",
       "4               0         76   1002  "
      ]
     },
     "execution_count": 17,
     "metadata": {},
     "output_type": "execute_result"
    }
   ],
   "source": [
    "# Load the data\n",
    "data_path = r'E:\\Kifiya\\Week 4\\Challenge wk\\customer-traffic-analysis-rossmann\\data\\synthetic_sales_data.csv'\n",
    "df = pd.read_csv(data_path)\n",
    "\n",
    "# Display first few rows of the dataset\n",
    "df.head()\n"
   ]
  },
  {
   "cell_type": "markdown",
   "metadata": {},
   "source": [
    "Step 3: Data Preprocessing (2.1)\n",
    "Next, we preprocess the data for machine learning, converting non-numeric columns, handling missing values, and generating new features from the Date column.\n",
    "\n",
    "Tasks:\n",
    "\n",
    "Extract useful time-related features: weekdays, weekends, days_to_holiday, etc.\n",
    "Handle missing values if any.\n",
    "Scale the data."
   ]
  },
  {
   "cell_type": "code",
   "execution_count": 18,
   "metadata": {},
   "outputs": [
    {
     "data": {
      "text/html": [
       "<div>\n",
       "<style scoped>\n",
       "    .dataframe tbody tr th:only-of-type {\n",
       "        vertical-align: middle;\n",
       "    }\n",
       "\n",
       "    .dataframe tbody tr th {\n",
       "        vertical-align: top;\n",
       "    }\n",
       "\n",
       "    .dataframe thead th {\n",
       "        text-align: right;\n",
       "    }\n",
       "</style>\n",
       "<table border=\"1\" class=\"dataframe\">\n",
       "  <thead>\n",
       "    <tr style=\"text-align: right;\">\n",
       "      <th></th>\n",
       "      <th>Date</th>\n",
       "      <th>Store</th>\n",
       "      <th>Store_Type</th>\n",
       "      <th>Store_Status</th>\n",
       "      <th>Promo</th>\n",
       "      <th>Promo2</th>\n",
       "      <th>School_Holiday</th>\n",
       "      <th>Customers</th>\n",
       "      <th>Sales</th>\n",
       "      <th>Day</th>\n",
       "      <th>Month</th>\n",
       "      <th>Year</th>\n",
       "      <th>Weekday</th>\n",
       "      <th>Weekend</th>\n",
       "      <th>Is_Beginning_Of_Month</th>\n",
       "      <th>Is_Mid_Month</th>\n",
       "      <th>Is_End_Month</th>\n",
       "    </tr>\n",
       "  </thead>\n",
       "  <tbody>\n",
       "    <tr>\n",
       "      <th>0</th>\n",
       "      <td>2021-01-01</td>\n",
       "      <td>1</td>\n",
       "      <td>supermarket</td>\n",
       "      <td>1</td>\n",
       "      <td>0</td>\n",
       "      <td>0</td>\n",
       "      <td>0</td>\n",
       "      <td>124</td>\n",
       "      <td>0</td>\n",
       "      <td>1</td>\n",
       "      <td>1</td>\n",
       "      <td>2021</td>\n",
       "      <td>4</td>\n",
       "      <td>False</td>\n",
       "      <td>True</td>\n",
       "      <td>False</td>\n",
       "      <td>False</td>\n",
       "    </tr>\n",
       "    <tr>\n",
       "      <th>1</th>\n",
       "      <td>2021-01-02</td>\n",
       "      <td>1</td>\n",
       "      <td>pharmacy</td>\n",
       "      <td>1</td>\n",
       "      <td>0</td>\n",
       "      <td>0</td>\n",
       "      <td>0</td>\n",
       "      <td>87</td>\n",
       "      <td>0</td>\n",
       "      <td>2</td>\n",
       "      <td>1</td>\n",
       "      <td>2021</td>\n",
       "      <td>5</td>\n",
       "      <td>True</td>\n",
       "      <td>True</td>\n",
       "      <td>False</td>\n",
       "      <td>False</td>\n",
       "    </tr>\n",
       "    <tr>\n",
       "      <th>2</th>\n",
       "      <td>2021-01-03</td>\n",
       "      <td>1</td>\n",
       "      <td>supermarket</td>\n",
       "      <td>1</td>\n",
       "      <td>1</td>\n",
       "      <td>0</td>\n",
       "      <td>0</td>\n",
       "      <td>74</td>\n",
       "      <td>778</td>\n",
       "      <td>3</td>\n",
       "      <td>1</td>\n",
       "      <td>2021</td>\n",
       "      <td>6</td>\n",
       "      <td>True</td>\n",
       "      <td>True</td>\n",
       "      <td>False</td>\n",
       "      <td>False</td>\n",
       "    </tr>\n",
       "    <tr>\n",
       "      <th>3</th>\n",
       "      <td>2021-01-04</td>\n",
       "      <td>1</td>\n",
       "      <td>supermarket</td>\n",
       "      <td>0</td>\n",
       "      <td>1</td>\n",
       "      <td>0</td>\n",
       "      <td>0</td>\n",
       "      <td>0</td>\n",
       "      <td>0</td>\n",
       "      <td>4</td>\n",
       "      <td>1</td>\n",
       "      <td>2021</td>\n",
       "      <td>0</td>\n",
       "      <td>False</td>\n",
       "      <td>True</td>\n",
       "      <td>False</td>\n",
       "      <td>False</td>\n",
       "    </tr>\n",
       "    <tr>\n",
       "      <th>4</th>\n",
       "      <td>2021-01-05</td>\n",
       "      <td>1</td>\n",
       "      <td>pharmacy</td>\n",
       "      <td>1</td>\n",
       "      <td>1</td>\n",
       "      <td>0</td>\n",
       "      <td>0</td>\n",
       "      <td>76</td>\n",
       "      <td>1002</td>\n",
       "      <td>5</td>\n",
       "      <td>1</td>\n",
       "      <td>2021</td>\n",
       "      <td>1</td>\n",
       "      <td>False</td>\n",
       "      <td>True</td>\n",
       "      <td>False</td>\n",
       "      <td>False</td>\n",
       "    </tr>\n",
       "  </tbody>\n",
       "</table>\n",
       "</div>"
      ],
      "text/plain": [
       "        Date  Store   Store_Type  Store_Status  Promo  Promo2  School_Holiday  \\\n",
       "0 2021-01-01      1  supermarket             1      0       0               0   \n",
       "1 2021-01-02      1     pharmacy             1      0       0               0   \n",
       "2 2021-01-03      1  supermarket             1      1       0               0   \n",
       "3 2021-01-04      1  supermarket             0      1       0               0   \n",
       "4 2021-01-05      1     pharmacy             1      1       0               0   \n",
       "\n",
       "   Customers  Sales  Day  Month  Year  Weekday  Weekend  \\\n",
       "0        124      0    1      1  2021        4    False   \n",
       "1         87      0    2      1  2021        5     True   \n",
       "2         74    778    3      1  2021        6     True   \n",
       "3          0      0    4      1  2021        0    False   \n",
       "4         76   1002    5      1  2021        1    False   \n",
       "\n",
       "   Is_Beginning_Of_Month  Is_Mid_Month  Is_End_Month  \n",
       "0                   True         False         False  \n",
       "1                   True         False         False  \n",
       "2                   True         False         False  \n",
       "3                   True         False         False  \n",
       "4                   True         False         False  "
      ]
     },
     "execution_count": 18,
     "metadata": {},
     "output_type": "execute_result"
    }
   ],
   "source": [
    "# Convert Date to datetime format\n",
    "df['Date'] = pd.to_datetime(df['Date'])\n",
    "\n",
    "# Extract useful features from Date\n",
    "df['Day'] = df['Date'].dt.day\n",
    "df['Month'] = df['Date'].dt.month\n",
    "df['Year'] = df['Date'].dt.year\n",
    "df['Weekday'] = df['Date'].dt.weekday\n",
    "df['Weekend'] = df['Weekday'] >= 5  # True for weekends, False otherwise\n",
    "\n",
    "# Extra features (days to/from holidays etc.)\n",
    "df['Is_Beginning_Of_Month'] = df['Day'] <= 7\n",
    "df['Is_Mid_Month'] = (df['Day'] > 7) & (df['Day'] <= 21)\n",
    "df['Is_End_Month'] = df['Day'] > 21\n",
    "\n",
    "# Handling missing values\n",
    "df.fillna(0, inplace=True)\n",
    "\n",
    "# Preview the modified dataset\n",
    "df.head()\n"
   ]
  },
  {
   "cell_type": "markdown",
   "metadata": {},
   "source": [
    "Step 4: Scale the Data\n",
    "We use StandardScaler to scale the numeric features for machine learning algorithms."
   ]
  },
  {
   "cell_type": "code",
   "execution_count": 20,
   "metadata": {},
   "outputs": [],
   "source": [
    "# Define features and target variable\n",
    "X = df.drop(columns=['Sales', 'Date'])\n",
    "y = df['Sales']\n",
    "\n",
    "# Split data into training and test sets\n",
    "from sklearn.model_selection import train_test_split\n",
    "\n",
    "X_train, X_test, y_train, y_test = train_test_split(X, y, test_size=0.2, random_state=42)\n"
   ]
  },
  {
   "cell_type": "code",
   "execution_count": 24,
   "metadata": {},
   "outputs": [],
   "source": [
    "\n",
    "from sklearn.model_selection import train_test_split\n",
    "from sklearn.preprocessing import StandardScaler, OneHotEncoder\n",
    "from sklearn.compose import ColumnTransformer\n",
    "from sklearn.pipeline import Pipeline\n",
    "\n",
    "# Sample DataFrame\n",
    "data = pd.DataFrame({\n",
    "    'category': ['supermarket', 'grocery', 'supermarket', 'grocery'],\n",
    "    'value': [10, 20, 30, 40]\n",
    "})\n",
    "\n",
    "# Split data\n",
    "X = data[['category']]  # Only use categorical features\n",
    "y = data['value']       # Target variable\n",
    "X_train, X_test, y_train, y_test = train_test_split(X, y, test_size=0.2, random_state=42)\n",
    "\n",
    "# Preprocessing pipeline\n",
    "preprocessor = ColumnTransformer(\n",
    "    transformers=[\n",
    "        ('cat', OneHotEncoder(), ['category'])  # Only encode category\n",
    "    ]\n",
    ")\n",
    "\n",
    "# Fit and transform\n",
    "X_train_processed = preprocessor.fit_transform(X_train)\n",
    "X_test_processed = preprocessor.transform(X_test)\n",
    "\n",
    "# Now, if you have other numerical features to scale, you can include them in the pipeline\n",
    "# For example, if you had a numerical column to scale, add it like this:\n",
    "# X = data[['category', 'another_numeric_feature']] (example)\n"
   ]
  },
  {
   "cell_type": "markdown",
   "metadata": {},
   "source": [
    "Step 5: Build Machine Learning Model with Sklearn Pipelines (2.2)\n",
    "For this task, we use RandomForestRegressor as a starting point and set up a pipeline to make the workflow modular."
   ]
  },
  {
   "cell_type": "code",
   "execution_count": 26,
   "metadata": {},
   "outputs": [
    {
     "name": "stdout",
     "output_type": "stream",
     "text": [
      "Mean Squared Error: 207.36000000000016\n"
     ]
    }
   ],
   "source": [
    "# Preprocessing pipeline\n",
    "preprocessor = ColumnTransformer(\n",
    "    transformers=[\n",
    "        ('num', StandardScaler(), []),  # No numerical features in this example\n",
    "        ('cat', OneHotEncoder(), ['category'])  # One-hot encode the categorical feature\n",
    "    ]\n",
    ")\n",
    "\n",
    "# Define the model using sklearn Pipeline\n",
    "rf_pipeline = Pipeline([\n",
    "    ('preprocessor', preprocessor),  # Add the preprocessing step\n",
    "    ('model', RandomForestRegressor(n_estimators=100, random_state=42))\n",
    "])\n",
    "\n",
    "# Fit the pipeline to the training data\n",
    "rf_pipeline.fit(X_train, y_train)\n",
    "\n",
    "# Predict on the test data\n",
    "y_pred = rf_pipeline.predict(X_test)\n",
    "\n",
    "# Evaluate the model performance\n",
    "mse = mean_squared_error(y_test, y_pred)\n",
    "print(f\"Mean Squared Error: {mse}\")"
   ]
  },
  {
   "cell_type": "markdown",
   "metadata": {},
   "source": [
    "tep 6: Choose a Loss Function (2.3)\n",
    "For the RandomForestRegressor, the default loss function is Mean Squared Error (MSE). I chose MSE for several reasons:\n",
    "\n",
    "Sensitivity to Outliers: MSE measures the average squared difference between predicted and actual values. This squaring of errors amplifies the impact of larger errors, making MSE particularly sensitive to outliers. In many regression tasks, large deviations can be critical, and prioritizing their minimization is essential for a robust model.\n",
    "\n",
    "Smooth Optimization: The mathematical properties of MSE provide a smooth gradient, which facilitates effective optimization. This characteristic is beneficial for the training algorithms used in Random Forest, allowing for efficient convergence during the fitting process.\n",
    "\n",
    "Interpretability: MSE is straightforward to interpret, as it quantifies the average squared deviation in the same units as the target variable squared. This makes it easy to understand the magnitude of errors the model is producing.\n",
    "\n",
    "Commonly Used in Regression: MSE is a widely accepted loss function in regression analysis, making it a standard choice that is familiar to many practitioners. This familiarity can enhance collaboration and understanding among team members working on the model.\n",
    "\n",
    "In summary, MSE's sensitivity to larger errors, smooth optimization properties, interpretability, and established use in the field make it a suitable choice for the RandomForestRegressor in this regression task."
   ]
  },
  {
   "cell_type": "markdown",
   "metadata": {},
   "source": [
    "Step 7: Post Prediction Analysis (2.4)\n",
    "Analyze the feature importance to understand which features are driving predictions."
   ]
  },
  {
   "cell_type": "code",
   "execution_count": 31,
   "metadata": {},
   "outputs": [
    {
     "name": "stdout",
     "output_type": "stream",
     "text": [
      "X_train shape: (3, 1)\n"
     ]
    },
    {
     "data": {
      "image/png": "[encoded data removed]",
      "text/plain": [
       "<Figure size 1000x600 with 1 Axes>"
      ]
     },
     "metadata": {},
     "output_type": "display_data"
    }
   ],
   "source": [
    "# Fit the pipeline to the training data first\n",
    "rf_pipeline.fit(X_train, y_train)\n",
    "\n",
    "# Check the shape of X_train to understand the number of features\n",
    "print(f\"X_train shape: {X_train.shape}\")\n",
    "\n",
    "# Extract feature importance from the model\n",
    "importance = rf_pipeline.named_steps['model'].feature_importances_\n",
    "\n",
    "# Extract the feature names after any preprocessing steps\n",
    "# This assumes you might be using one-hot encoding or similar\n",
    "features = rf_pipeline.named_steps['preprocessor'].get_feature_names_out()  # Adjust as per your preprocessing step\n",
    "\n",
    "# Check lengths before creating DataFrame\n",
    "if len(features) == len(importance):\n",
    "    # Create a DataFrame for visualization\n",
    "    importance_df = pd.DataFrame({'Feature': features, 'Importance': importance})\n",
    "    importance_df = importance_df.sort_values(by='Importance', ascending=False)\n",
    "\n",
    "    # Plot feature importance\n",
    "    plt.figure(figsize=(10, 6))\n",
    "    sns.barplot(x='Importance', y='Feature', data=importance_df)\n",
    "    plt.title('Feature Importance')\n",
    "    plt.show()\n",
    "else:\n",
    "    print(f\"Length mismatch: features ({len(features)}) and importance ({len(importance)})\")\n"
   ]
  },
  {
   "cell_type": "markdown",
   "metadata": {},
   "source": [
    "Step 8: Serialize the Model (2.5)\n",
    "We can serialize the model using joblib and save it with a timestamp."
   ]
  },
  {
   "cell_type": "code",
   "execution_count": 32,
   "metadata": {},
   "outputs": [
    {
     "data": {
      "text/plain": [
       "['random_forest_sales_model_2024-09-21-18-01-03.pkl']"
      ]
     },
     "execution_count": 32,
     "metadata": {},
     "output_type": "execute_result"
    }
   ],
   "source": [
    "# Save the model\n",
    "timestamp = datetime.datetime.now().strftime('%Y-%m-%d-%H-%M-%S')\n",
    "joblib.dump(rf_pipeline, f'random_forest_sales_model_{timestamp}.pkl')\n"
   ]
  },
  {
   "cell_type": "markdown",
   "metadata": {},
   "source": [
    "Step 9: Time Series Analysis for LSTM (2.6)\n",
    "Before building the LSTM model, we check the stationarity of the data and perform differencing if necessary."
   ]
  },
  {
   "cell_type": "code",
   "execution_count": 33,
   "metadata": {},
   "outputs": [
    {
     "name": "stdout",
     "output_type": "stream",
     "text": [
      "ADF Statistic: -61.23057134910118\n",
      "p-value: 0.0\n"
     ]
    }
   ],
   "source": [
    "from statsmodels.tsa.stattools import adfuller\n",
    "\n",
    "# Check stationarity of the sales data\n",
    "result = adfuller(df['Sales'])\n",
    "print(f\"ADF Statistic: {result[0]}\")\n",
    "print(f\"p-value: {result[1]}\")\n",
    "\n",
    "# If the p-value is > 0.05, differencing is needed\n",
    "if result[1] > 0.05:\n",
    "    df['Sales_diff'] = df['Sales'].diff().dropna()\n",
    "else:\n",
    "    df['Sales_diff'] = df['Sales']\n"
   ]
  },
  {
   "cell_type": "markdown",
   "metadata": {},
   "source": [
    "Step 10: LSTM Model for Sales Forecasting (2.6)\n",
    "We now use the scaled data and prepare it for LSTM regression modeling."
   ]
  },
  {
   "cell_type": "code",
   "execution_count": 49,
   "metadata": {},
   "outputs": [
    {
     "ename": "",
     "evalue": "",
     "output_type": "error",
     "traceback": [
      "\u001b[1;31mFailed to interrupt the Kernel. \n",
      "\u001b[1;31mUnable to start Kernel 'streamlit_env (Python 3.10.7)' due to a timeout waiting for the ports to get used. \n",
      "\u001b[1;31mView Jupyter <a href='command:jupyter.viewOutput'>log</a> for further details."
     ]
    }
   ],
   "source": [
    "import numpy as np\n",
    "import pandas as pd\n",
    "from sklearn.linear_model import SGDRegressor\n",
    "from sklearn.metrics import mean_squared_error, r2_score\n",
    "from sklearn.preprocessing import StandardScaler\n",
    "import dask.dataframe as dd\n",
    "from dask_ml.model_selection import train_test_split\n",
    "from dask_ml.wrappers import Incremental\n",
    "\n",
    "# Create dummy data for example\n",
    "n_samples, n_features = 173, 800078\n",
    "data = np.random.rand(n_samples, n_features)\n",
    "df = pd.DataFrame(data)\n",
    "\n",
    "# Split the data into features and target\n",
    "X = df.iloc[:, :-1]  # All columns except the last\n",
    "y = df.iloc[:, -1]   # Last column as target\n",
    "\n",
    "# Standardize features\n",
    "scaler = StandardScaler()\n",
    "X_scaled = scaler.fit_transform(X)\n",
    "\n",
    "# Convert to Dask DataFrame\n",
    "X_dask = dd.from_array(X_scaled, npartitions=4)\n",
    "y_dask = dd.from_pandas(y, npartitions=4)\n",
    "\n",
    "# Train-test split with shuffle\n",
    "X_train, X_test, y_train, y_test = train_test_split(X_dask, y_dask, test_size=0.2, shuffle=True)\n",
    "\n",
    "# Use an Incremental model (SGD Regressor)\n",
    "linear_model = Incremental(SGDRegressor(max_iter=1000, tol=1e-3))\n",
    "\n",
    "# Fit the model on the training data\n",
    "linear_model.fit(X_train, y_train)\n",
    "\n",
    "# Predictions\n",
    "y_pred_linear = linear_model.predict(X_test)\n",
    "\n",
    "# Evaluate\n",
    "mse_linear = mean_squared_error(y_test.compute(), y_pred_linear.compute())\n",
    "r2_linear = r2_score(y_test.compute(), y_pred_linear.compute())\n",
    "\n",
    "print(f'Linear Regression - MSE: {mse_linear:.2f}, R2: {r2_linear:.2f}')\n",
    "\n",
    "# Optional: Random Forest for comparison\n",
    "from sklearn.ensemble import RandomForestRegressor\n",
    "\n",
    "# Use Random Forest for comparison\n",
    "rf_model = RandomForestRegressor(n_estimators=100, random_state=42)\n",
    "rf_model.fit(X_train.compute(), y_train.compute())\n",
    "\n",
    "# Predictions\n",
    "y_pred_rf = rf_model.predict(X_test.compute())\n",
    "\n",
    "# Evaluate\n",
    "mse_rf = mean_squared_error(y_test.compute(), y_pred_rf)\n",
    "r2_rf = r2_score(y_test.compute(), y_pred_rf)\n",
    "\n",
    "print(f'Random Forest - MSE: {mse_rf:.2f}, R2: {r2_rf:.2f}')"
   ]
  },
  {
   "cell_type": "code",
   "execution_count": 1,
   "metadata": {},
   "outputs": [
    {
     "name": "stdout",
     "output_type": "stream",
     "text": [
      "Columns in the dataset: Index(['Date', 'Store', 'Store_Type', 'Store_Status', 'Promo', 'Promo2',\n",
      "       'School_Holiday', 'Customers', 'Sales'],\n",
      "      dtype='object')\n"
     ]
    },
    {
     "name": "stderr",
     "output_type": "stream",
     "text": [
      "c:\\Users\\Yidnekachew\\streamlit_env\\lib\\site-packages\\keras\\src\\layers\\rnn\\rnn.py:204: UserWarning: Do not pass an `input_shape`/`input_dim` argument to a layer. When using Sequential models, prefer using an `Input(shape)` object as the first layer in the model instead.\n",
      "  super().__init__(**kwargs)\n"
     ]
    },
    {
     "name": "stdout",
     "output_type": "stream",
     "text": [
      "Epoch 1/100\n",
      "\u001b[1m274/274\u001b[0m \u001b[32m━━━━━━━━━━━━━━━━━━━━\u001b[0m\u001b[37m\u001b[0m \u001b[1m35s\u001b[0m 12ms/step - loss: 0.0681\n",
      "Epoch 2/100\n",
      "\u001b[1m274/274\u001b[0m \u001b[32m━━━━━━━━━━━━━━━━━━━━\u001b[0m\u001b[37m\u001b[0m \u001b[1m8s\u001b[0m 13ms/step - loss: 0.0682\n",
      "Epoch 3/100\n",
      "\u001b[1m274/274\u001b[0m \u001b[32m━━━━━━━━━━━━━━━━━━━━\u001b[0m\u001b[37m\u001b[0m \u001b[1m6s\u001b[0m 14ms/step - loss: 0.0678\n",
      "Epoch 4/100\n",
      "\u001b[1m274/274\u001b[0m \u001b[32m━━━━━━━━━━━━━━━━━━━━\u001b[0m\u001b[37m\u001b[0m \u001b[1m5s\u001b[0m 13ms/step - loss: 0.0683\n",
      "Epoch 5/100\n",
      "\u001b[1m274/274\u001b[0m \u001b[32m━━━━━━━━━━━━━━━━━━━━\u001b[0m\u001b[37m\u001b[0m \u001b[1m5s\u001b[0m 13ms/step - loss: 0.0674\n",
      "Epoch 6/100\n",
      "\u001b[1m274/274\u001b[0m \u001b[32m━━━━━━━━━━━━━━━━━━━━\u001b[0m\u001b[37m\u001b[0m \u001b[1m4s\u001b[0m 14ms/step - loss: 0.0670\n",
      "Epoch 7/100\n",
      "\u001b[1m274/274\u001b[0m \u001b[32m━━━━━━━━━━━━━━━━━━━━\u001b[0m\u001b[37m\u001b[0m \u001b[1m4s\u001b[0m 13ms/step - loss: 0.0673\n",
      "Epoch 8/100\n",
      "\u001b[1m274/274\u001b[0m \u001b[32m━━━━━━━━━━━━━━━━━━━━\u001b[0m\u001b[37m\u001b[0m \u001b[1m6s\u001b[0m 14ms/step - loss: 0.0676\n",
      "Epoch 9/100\n",
      "\u001b[1m274/274\u001b[0m \u001b[32m━━━━━━━━━━━━━━━━━━━━\u001b[0m\u001b[37m\u001b[0m \u001b[1m4s\u001b[0m 13ms/step - loss: 0.0655\n",
      "Epoch 10/100\n",
      "\u001b[1m274/274\u001b[0m \u001b[32m━━━━━━━━━━━━━━━━━━━━\u001b[0m\u001b[37m\u001b[0m \u001b[1m3s\u001b[0m 12ms/step - loss: 0.0678\n",
      "Epoch 11/100\n",
      "\u001b[1m274/274\u001b[0m \u001b[32m━━━━━━━━━━━━━━━━━━━━\u001b[0m\u001b[37m\u001b[0m \u001b[1m4s\u001b[0m 13ms/step - loss: 0.0660\n",
      "Epoch 12/100\n",
      "\u001b[1m274/274\u001b[0m \u001b[32m━━━━━━━━━━━━━━━━━━━━\u001b[0m\u001b[37m\u001b[0m \u001b[1m3s\u001b[0m 11ms/step - loss: 0.0679\n",
      "Epoch 13/100\n",
      "\u001b[1m274/274\u001b[0m \u001b[32m━━━━━━━━━━━━━━━━━━━━\u001b[0m\u001b[37m\u001b[0m \u001b[1m3s\u001b[0m 12ms/step - loss: 0.0665\n",
      "Epoch 14/100\n",
      "\u001b[1m274/274\u001b[0m \u001b[32m━━━━━━━━━━━━━━━━━━━━\u001b[0m\u001b[37m\u001b[0m \u001b[1m3s\u001b[0m 11ms/step - loss: 0.0669\n",
      "Epoch 15/100\n",
      "\u001b[1m274/274\u001b[0m \u001b[32m━━━━━━━━━━━━━━━━━━━━\u001b[0m\u001b[37m\u001b[0m \u001b[1m3s\u001b[0m 12ms/step - loss: 0.0683\n",
      "Epoch 16/100\n",
      "\u001b[1m274/274\u001b[0m \u001b[32m━━━━━━━━━━━━━━━━━━━━\u001b[0m\u001b[37m\u001b[0m \u001b[1m5s\u001b[0m 13ms/step - loss: 0.0657\n",
      "Epoch 17/100\n",
      "\u001b[1m274/274\u001b[0m \u001b[32m━━━━━━━━━━━━━━━━━━━━\u001b[0m\u001b[37m\u001b[0m \u001b[1m3s\u001b[0m 13ms/step - loss: 0.0668\n",
      "Epoch 18/100\n",
      "\u001b[1m274/274\u001b[0m \u001b[32m━━━━━━━━━━━━━━━━━━━━\u001b[0m\u001b[37m\u001b[0m \u001b[1m6s\u001b[0m 14ms/step - loss: 0.0675\n",
      "Epoch 19/100\n",
      "\u001b[1m220/274\u001b[0m \u001b[32m━━━━━━━━━━━━━━━━\u001b[0m\u001b[37m━━━━\u001b[0m \u001b[1m0s\u001b[0m 15ms/step - loss: 0.0670"
     ]
    }
   ],
   "source": [
    "import numpy as np\n",
    "import pandas as pd\n",
    "from sklearn.preprocessing import MinMaxScaler\n",
    "from keras.models import Sequential\n",
    "from keras.layers import LSTM, Dense, Dropout\n",
    "\n",
    "# Define the file path\n",
    "file_path = \"E:\\\\Kifiya\\\\Week 4\\\\Challenge wk\\\\customer-traffic-analysis-rossmann\\\\data\\\\synthetic_sales_data.csv\"\n",
    "\n",
    "# Load the data\n",
    "data = pd.read_csv(file_path)\n",
    "\n",
    "# Print the columns of the DataFrame\n",
    "print(\"Columns in the dataset:\", data.columns)\n",
    "\n",
    "# Use the correct column name\n",
    "sales_column_name = 'Sales'  # Corrected to match the actual column name\n",
    "if sales_column_name not in data.columns:\n",
    "    raise KeyError(f\"Column '{sales_column_name}' not found in the dataset.\")\n",
    "\n",
    "sales_data = data[sales_column_name].values.reshape(-1, 1)\n",
    "\n",
    "# Scale the data\n",
    "scaler = MinMaxScaler(feature_range=(0, 1))\n",
    "scaled_data = scaler.fit_transform(sales_data)\n",
    "\n",
    "# Prepare the data for LSTM\n",
    "def create_dataset(data, time_step=1):\n",
    "    X, y = [], []\n",
    "    for i in range(len(data) - time_step - 1):\n",
    "        a = data[i:(i + time_step), 0]\n",
    "        X.append(a)\n",
    "        y.append(data[i + time_step, 0])\n",
    "    return np.array(X), np.array(y)\n",
    "\n",
    "# Set time step\n",
    "time_step = 10\n",
    "X, y = create_dataset(scaled_data, time_step)\n",
    "\n",
    "# Reshape input to be [samples, time steps, features]\n",
    "X = X.reshape(X.shape[0], X.shape[1], 1)\n",
    "\n",
    "# Split the data into training and testing sets\n",
    "train_size = int(len(X) * 0.8)\n",
    "X_train, X_test = X[:train_size], X[train_size:]\n",
    "y_train, y_test = y[:train_size], y[train_size:]\n",
    "\n",
    "# Build the LSTM model\n",
    "model = Sequential()\n",
    "model.add(LSTM(units=50, return_sequences=True, input_shape=(time_step, 1)))\n",
    "model.add(Dropout(0.2))\n",
    "model.add(LSTM(units=50, return_sequences=False))\n",
    "model.add(Dropout(0.2))\n",
    "model.add(Dense(units=1))  # Output layer\n",
    "\n",
    "# Compile the model\n",
    "model.compile(optimizer='adam', loss='mean_squared_error')\n",
    "\n",
    "# Fit the model\n",
    "model.fit(X_train, y_train, epochs=100, batch_size=32)\n",
    "\n",
    "# Make predictions\n",
    "predictions = model.predict(X_test)\n",
    "predictions = scaler.inverse_transform(predictions)  # Inverse scaling"
   ]
  },
  {
   "cell_type": "code",
   "execution_count": 45,
   "metadata": {},
   "outputs": [
    {
     "name": "stdout",
     "output_type": "stream",
     "text": [
      "X_lstm type: <class 'numpy.ndarray'> shape: (10943, 7)\n",
      "y_lstm type: <class 'numpy.ndarray'> shape: (10943,)\n",
      "Reshaped X_train_lstm shape: (8754, 7, 1)\n",
      "Reshaped X_test_lstm shape: (2189, 7, 1)\n"
     ]
    },
    {
     "ename": "ValueError",
     "evalue": "object __array__ method not producing an array",
     "output_type": "error",
     "traceback": [
      "\u001b[1;31m---------------------------------------------------------------------------\u001b[0m",
      "\u001b[1;31mValueError\u001b[0m                                Traceback (most recent call last)",
      "Cell \u001b[1;32mIn[45], line 64\u001b[0m\n\u001b[0;32m     62\u001b[0m model \u001b[38;5;241m=\u001b[39m Sequential()\n\u001b[0;32m     63\u001b[0m model\u001b[38;5;241m.\u001b[39madd(Input(shape\u001b[38;5;241m=\u001b[39m(X_train_lstm\u001b[38;5;241m.\u001b[39mshape[\u001b[38;5;241m1\u001b[39m], \u001b[38;5;241m1\u001b[39m)))  \u001b[38;5;66;03m# Input layer explicitly defined\u001b[39;00m\n\u001b[1;32m---> 64\u001b[0m \u001b[43mmodel\u001b[49m\u001b[38;5;241;43m.\u001b[39;49m\u001b[43madd\u001b[49m\u001b[43m(\u001b[49m\u001b[43mLSTM\u001b[49m\u001b[43m(\u001b[49m\u001b[38;5;241;43m50\u001b[39;49m\u001b[43m,\u001b[49m\u001b[43m \u001b[49m\u001b[43mreturn_sequences\u001b[49m\u001b[38;5;241;43m=\u001b[39;49m\u001b[38;5;28;43;01mFalse\u001b[39;49;00m\u001b[43m)\u001b[49m\u001b[43m)\u001b[49m  \u001b[38;5;66;03m# LSTM layer\u001b[39;00m\n\u001b[0;32m     65\u001b[0m model\u001b[38;5;241m.\u001b[39madd(Dense(\u001b[38;5;241m1\u001b[39m))  \u001b[38;5;66;03m# Output layer for predicting a single value (Sales)\u001b[39;00m\n\u001b[0;32m     67\u001b[0m \u001b[38;5;66;03m# Compile the model\u001b[39;00m\n",
      "File \u001b[1;32mc:\\Users\\Yidnekachew\\streamlit_env\\lib\\site-packages\\keras\\src\\models\\sequential.py:121\u001b[0m, in \u001b[0;36mSequential.add\u001b[1;34m(self, layer, rebuild)\u001b[0m\n\u001b[0;32m    119\u001b[0m \u001b[38;5;28mself\u001b[39m\u001b[38;5;241m.\u001b[39m_layers\u001b[38;5;241m.\u001b[39mappend(layer)\n\u001b[0;32m    120\u001b[0m \u001b[38;5;28;01mif\u001b[39;00m rebuild:\n\u001b[1;32m--> 121\u001b[0m     \u001b[38;5;28;43mself\u001b[39;49m\u001b[38;5;241;43m.\u001b[39;49m\u001b[43m_maybe_rebuild\u001b[49m\u001b[43m(\u001b[49m\u001b[43m)\u001b[49m\n\u001b[0;32m    122\u001b[0m \u001b[38;5;28;01melse\u001b[39;00m:\n\u001b[0;32m    123\u001b[0m     \u001b[38;5;28mself\u001b[39m\u001b[38;5;241m.\u001b[39mbuilt \u001b[38;5;241m=\u001b[39m \u001b[38;5;28;01mFalse\u001b[39;00m\n",
      "File \u001b[1;32mc:\\Users\\Yidnekachew\\streamlit_env\\lib\\site-packages\\keras\\src\\models\\sequential.py:140\u001b[0m, in \u001b[0;36mSequential._maybe_rebuild\u001b[1;34m(self)\u001b[0m\n\u001b[0;32m    138\u001b[0m \u001b[38;5;28;01mif\u001b[39;00m \u001b[38;5;28misinstance\u001b[39m(\u001b[38;5;28mself\u001b[39m\u001b[38;5;241m.\u001b[39m_layers[\u001b[38;5;241m0\u001b[39m], InputLayer) \u001b[38;5;129;01mand\u001b[39;00m \u001b[38;5;28mlen\u001b[39m(\u001b[38;5;28mself\u001b[39m\u001b[38;5;241m.\u001b[39m_layers) \u001b[38;5;241m>\u001b[39m \u001b[38;5;241m1\u001b[39m:\n\u001b[0;32m    139\u001b[0m     input_shape \u001b[38;5;241m=\u001b[39m \u001b[38;5;28mself\u001b[39m\u001b[38;5;241m.\u001b[39m_layers[\u001b[38;5;241m0\u001b[39m]\u001b[38;5;241m.\u001b[39mbatch_shape\n\u001b[1;32m--> 140\u001b[0m     \u001b[38;5;28;43mself\u001b[39;49m\u001b[38;5;241;43m.\u001b[39;49m\u001b[43mbuild\u001b[49m\u001b[43m(\u001b[49m\u001b[43minput_shape\u001b[49m\u001b[43m)\u001b[49m\n\u001b[0;32m    141\u001b[0m \u001b[38;5;28;01melif\u001b[39;00m \u001b[38;5;28mhasattr\u001b[39m(\u001b[38;5;28mself\u001b[39m\u001b[38;5;241m.\u001b[39m_layers[\u001b[38;5;241m0\u001b[39m], \u001b[38;5;124m\"\u001b[39m\u001b[38;5;124minput_shape\u001b[39m\u001b[38;5;124m\"\u001b[39m) \u001b[38;5;129;01mand\u001b[39;00m \u001b[38;5;28mlen\u001b[39m(\u001b[38;5;28mself\u001b[39m\u001b[38;5;241m.\u001b[39m_layers) \u001b[38;5;241m>\u001b[39m \u001b[38;5;241m1\u001b[39m:\n\u001b[0;32m    142\u001b[0m     \u001b[38;5;66;03m# We can build the Sequential model if the first layer has the\u001b[39;00m\n\u001b[0;32m    143\u001b[0m     \u001b[38;5;66;03m# `input_shape` property. This is most commonly found in Functional\u001b[39;00m\n\u001b[0;32m    144\u001b[0m     \u001b[38;5;66;03m# model.\u001b[39;00m\n\u001b[0;32m    145\u001b[0m     input_shape \u001b[38;5;241m=\u001b[39m \u001b[38;5;28mself\u001b[39m\u001b[38;5;241m.\u001b[39m_layers[\u001b[38;5;241m0\u001b[39m]\u001b[38;5;241m.\u001b[39minput_shape\n",
      "File \u001b[1;32mc:\\Users\\Yidnekachew\\streamlit_env\\lib\\site-packages\\keras\\src\\layers\\layer.py:226\u001b[0m, in \u001b[0;36mLayer.__new__.<locals>.build_wrapper\u001b[1;34m(*args, **kwargs)\u001b[0m\n\u001b[0;32m    224\u001b[0m \u001b[38;5;28;01mwith\u001b[39;00m obj\u001b[38;5;241m.\u001b[39m_open_name_scope():\n\u001b[0;32m    225\u001b[0m     obj\u001b[38;5;241m.\u001b[39m_path \u001b[38;5;241m=\u001b[39m current_path()\n\u001b[1;32m--> 226\u001b[0m     original_build_method(\u001b[38;5;241m*\u001b[39margs, \u001b[38;5;241m*\u001b[39m\u001b[38;5;241m*\u001b[39mkwargs)\n\u001b[0;32m    227\u001b[0m \u001b[38;5;66;03m# Record build config.\u001b[39;00m\n\u001b[0;32m    228\u001b[0m signature \u001b[38;5;241m=\u001b[39m inspect\u001b[38;5;241m.\u001b[39msignature(original_build_method)\n",
      "File \u001b[1;32mc:\\Users\\Yidnekachew\\streamlit_env\\lib\\site-packages\\keras\\src\\models\\sequential.py:186\u001b[0m, in \u001b[0;36mSequential.build\u001b[1;34m(self, input_shape)\u001b[0m\n\u001b[0;32m    184\u001b[0m \u001b[38;5;28;01mfor\u001b[39;00m layer \u001b[38;5;129;01min\u001b[39;00m \u001b[38;5;28mself\u001b[39m\u001b[38;5;241m.\u001b[39m_layers[\u001b[38;5;241m1\u001b[39m:]:\n\u001b[0;32m    185\u001b[0m     \u001b[38;5;28;01mtry\u001b[39;00m:\n\u001b[1;32m--> 186\u001b[0m         x \u001b[38;5;241m=\u001b[39m \u001b[43mlayer\u001b[49m\u001b[43m(\u001b[49m\u001b[43mx\u001b[49m\u001b[43m)\u001b[49m\n\u001b[0;32m    187\u001b[0m     \u001b[38;5;28;01mexcept\u001b[39;00m \u001b[38;5;167;01mNotImplementedError\u001b[39;00m:\n\u001b[0;32m    188\u001b[0m         \u001b[38;5;66;03m# Can happen if shape inference is not implemented.\u001b[39;00m\n\u001b[0;32m    189\u001b[0m         \u001b[38;5;66;03m# TODO: consider reverting inbound nodes on layers processed.\u001b[39;00m\n\u001b[0;32m    190\u001b[0m         \u001b[38;5;28;01mreturn\u001b[39;00m\n",
      "File \u001b[1;32mc:\\Users\\Yidnekachew\\streamlit_env\\lib\\site-packages\\keras\\src\\utils\\traceback_utils.py:122\u001b[0m, in \u001b[0;36mfilter_traceback.<locals>.error_handler\u001b[1;34m(*args, **kwargs)\u001b[0m\n\u001b[0;32m    119\u001b[0m     filtered_tb \u001b[38;5;241m=\u001b[39m _process_traceback_frames(e\u001b[38;5;241m.\u001b[39m__traceback__)\n\u001b[0;32m    120\u001b[0m     \u001b[38;5;66;03m# To get the full stack trace, call:\u001b[39;00m\n\u001b[0;32m    121\u001b[0m     \u001b[38;5;66;03m# `keras.config.disable_traceback_filtering()`\u001b[39;00m\n\u001b[1;32m--> 122\u001b[0m     \u001b[38;5;28;01mraise\u001b[39;00m e\u001b[38;5;241m.\u001b[39mwith_traceback(filtered_tb) \u001b[38;5;28;01mfrom\u001b[39;00m \u001b[38;5;28;01mNone\u001b[39;00m\n\u001b[0;32m    123\u001b[0m \u001b[38;5;28;01mfinally\u001b[39;00m:\n\u001b[0;32m    124\u001b[0m     \u001b[38;5;28;01mdel\u001b[39;00m filtered_tb\n",
      "File \u001b[1;32mc:\\Users\\Yidnekachew\\streamlit_env\\lib\\site-packages\\keras\\src\\backend\\tensorflow\\numpy.py:2344\u001b[0m, in \u001b[0;36mtranspose\u001b[1;34m(x, axes)\u001b[0m\n\u001b[0;32m   2342\u001b[0m     output\u001b[38;5;241m.\u001b[39mset_shape(compute_transpose_output_shape(x\u001b[38;5;241m.\u001b[39mshape, axes))\n\u001b[0;32m   2343\u001b[0m     \u001b[38;5;28;01mreturn\u001b[39;00m output\n\u001b[1;32m-> 2344\u001b[0m \u001b[38;5;28;01mreturn\u001b[39;00m \u001b[43mtf\u001b[49m\u001b[38;5;241;43m.\u001b[39;49m\u001b[43mtranspose\u001b[49m\u001b[43m(\u001b[49m\u001b[43mx\u001b[49m\u001b[43m,\u001b[49m\u001b[43m \u001b[49m\u001b[43mperm\u001b[49m\u001b[38;5;241;43m=\u001b[39;49m\u001b[43maxes\u001b[49m\u001b[43m)\u001b[49m\n",
      "\u001b[1;31mValueError\u001b[0m: object __array__ method not producing an array"
     ]
    }
   ],
   "source": [
    "import numpy as np\n",
    "import pandas as pd\n",
    "from sklearn.preprocessing import MinMaxScaler\n",
    "from keras.models import Sequential\n",
    "from keras.layers import LSTM, Dense, Input\n",
    "import matplotlib.pyplot as plt\n",
    "import tensorflow as tf\n",
    "\n",
    "# Load data from the CSV file\n",
    "file_path = \"E:\\\\Kifiya\\\\Week 4\\\\Challenge wk\\\\customer-traffic-analysis-rossmann\\\\data\\\\synthetic_sales_data.csv\"\n",
    "df = pd.read_csv(file_path)\n",
    "\n",
    "# Ensure the 'Sales' column exists and is numeric\n",
    "df['Sales'] = pd.to_numeric(df['Sales'], errors='coerce')\n",
    "\n",
    "# Drop any rows with NaN values\n",
    "df.dropna(subset=['Sales'], inplace=True)\n",
    "\n",
    "# Scale the target (Sales) between 0 and 1\n",
    "scaler_y = MinMaxScaler(feature_range=(0, 1))\n",
    "df['Sales_scaled'] = scaler_y.fit_transform(df['Sales'].values.reshape(-1, 1))\n",
    "\n",
    "# Prepare the data for LSTM\n",
    "def create_supervised_data(data, n_lags=1):\n",
    "    X, y = [], []\n",
    "    for i in range(n_lags, len(data)):\n",
    "        X.append(data[i-n_lags:i])\n",
    "        y.append(data[i])\n",
    "    return np.array(X), np.array(y)\n",
    "\n",
    "n_lags = 7  # Use 7 days of history to predict the next day\n",
    "X_lstm, y_lstm = create_supervised_data(df['Sales_scaled'].values, n_lags=n_lags)\n",
    "\n",
    "# Ensure X_lstm and y_lstm are numpy arrays and have a float32 type\n",
    "X_lstm = np.array(X_lstm, dtype=np.float32)\n",
    "y_lstm = np.array(y_lstm, dtype=np.float32)\n",
    "\n",
    "# Check types and shapes\n",
    "print(\"X_lstm type:\", type(X_lstm), \"shape:\", X_lstm.shape)\n",
    "print(\"y_lstm type:\", type(y_lstm), \"shape:\", y_lstm.shape)\n",
    "\n",
    "# Split data into train and test sets\n",
    "train_size = int(len(X_lstm) * 0.8)\n",
    "X_train_lstm, X_test_lstm = X_lstm[:train_size], X_lstm[train_size:]\n",
    "y_train_lstm, y_test_lstm = y_lstm[:train_size], y_lstm[train_size:]\n",
    "\n",
    "# Reshape input to be [samples, time steps, features] for LSTM\n",
    "X_train_lstm = np.reshape(X_train_lstm, (X_train_lstm.shape[0], X_train_lstm.shape[1], 1))\n",
    "X_test_lstm = np.reshape(X_test_lstm, (X_test_lstm.shape[0], X_test_lstm.shape[1], 1))\n",
    "\n",
    "# Print shapes after reshaping\n",
    "print(\"Reshaped X_train_lstm shape:\", X_train_lstm.shape)\n",
    "print(\"Reshaped X_test_lstm shape:\", X_test_lstm.shape)\n",
    "\n",
    "# Ensure arrays are numpy float32 arrays or tensors\n",
    "X_train_lstm = np.asarray(X_train_lstm, dtype=np.float32)\n",
    "X_test_lstm = np.asarray(X_test_lstm, dtype=np.float32)\n",
    "y_train_lstm = np.asarray(y_train_lstm, dtype=np.float32)\n",
    "y_test_lstm = np.asarray(y_test_lstm, dtype=np.float32)\n",
    "\n",
    "# Build the LSTM model\n",
    "model = Sequential()\n",
    "model.add(Input(shape=(X_train_lstm.shape[1], 1)))  # Input layer explicitly defined\n",
    "model.add(LSTM(50, return_sequences=False))  # LSTM layer\n",
    "model.add(Dense(1))  # Output layer for predicting a single value (Sales)\n",
    "\n",
    "# Compile the model\n",
    "model.compile(optimizer='adam', loss='mean_squared_error')\n",
    "\n",
    "# Train the model\n",
    "history = model.fit(X_train_lstm, y_train_lstm, epochs=10, batch_size=32, validation_data=(X_test_lstm, y_test_lstm))\n",
    "\n",
    "# Plot training history\n",
    "plt.figure(figsize=(10, 6))\n",
    "plt.plot(history.history['loss'], label='Train Loss')\n",
    "plt.plot(history.history['val_loss'], label='Validation Loss')\n",
    "plt.legend()\n",
    "plt.title('LSTM Model Loss')\n",
    "plt.xlabel('Epochs')\n",
    "plt.ylabel('Loss')\n",
    "plt.show()\n"
   ]
  }
 ],
 "metadata": {
  "kernelspec": {
   "display_name": "streamlit_env",
   "language": "python",
   "name": "python3"
  },
  "language_info": {
   "codemirror_mode": {
    "name": "ipython",
    "version": 3
   },
   "file_extension": ".py",
   "mimetype": "text/x-python",
   "name": "python",
   "nbconvert_exporter": "python",
   "pygments_lexer": "ipython3",
   "version": "3.10.7"
  }
 },
 "nbformat": 4,
 "nbformat_minor": 2
}
