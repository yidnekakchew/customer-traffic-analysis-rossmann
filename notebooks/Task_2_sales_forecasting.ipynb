{
 "cells": [
  {
   "cell_type": "code",
   "execution_count": 5,
   "metadata": {},
   "outputs": [],
   "source": [
    "import pandas as pd\n",
    "import numpy as np\n",
    "import matplotlib.pyplot as plt\n",
    "import seaborn as sns\n",
    "from sklearn.model_selection import train_test_split\n",
    "from sklearn.preprocessing import StandardScaler\n",
    "from sklearn.ensemble import RandomForestRegressor\n",
    "from sklearn.pipeline import Pipeline\n",
    "from sklearn.metrics import mean_squared_error\n",
    "import joblib\n",
    "import tensorflow as tf\n",
    "from tensorflow import keras\n",
    "from tensorflow.keras import layers\n",
    "from statsmodels.tsa.stattools import adfuller, acf, pacf"
   ]
  },
  {
   "cell_type": "code",
   "execution_count": 6,
   "metadata": {},
   "outputs": [
    {
     "name": "stdout",
     "output_type": "stream",
     "text": [
      "         Date  Store   Store_Type  Store_Status  Promo  Promo2  \\\n",
      "0  2021-01-01      1  supermarket             1      0       0   \n",
      "1  2021-01-02      1     pharmacy             1      0       0   \n",
      "2  2021-01-03      1  supermarket             1      1       0   \n",
      "3  2021-01-04      1  supermarket             0      1       0   \n",
      "4  2021-01-05      1     pharmacy             1      1       0   \n",
      "\n",
      "   School_Holiday  Customers  Sales  \n",
      "0               0        124      0  \n",
      "1               0         87      0  \n",
      "2               0         74    778  \n",
      "3               0          0      0  \n",
      "4               0         76   1002  \n"
     ]
    }
   ],
   "source": [
    "# Load the dataset\n",
    "data_path = r'E:\\Kifiya\\Week 4\\Challenge wk\\customer-traffic-analysis-rossmann\\data\\synthetic_sales_data.csv'\n",
    "sales_data = pd.read_csv(data_path)\n",
    "\n",
    "# Display the first few rows of the dataset\n",
    "print(sales_data.head())"
   ]
  },
  {
   "cell_type": "code",
   "execution_count": 7,
   "metadata": {},
   "outputs": [
    {
     "name": "stdout",
     "output_type": "stream",
     "text": [
      "Date              0\n",
      "Store             0\n",
      "Store_Type        0\n",
      "Store_Status      0\n",
      "Promo             0\n",
      "Promo2            0\n",
      "School_Holiday    0\n",
      "Customers         0\n",
      "Sales             0\n",
      "dtype: int64\n"
     ]
    }
   ],
   "source": [
    "# Check for missing values\n",
    "print(sales_data.isnull().sum())\n",
    "\n",
    "# Fill missing values or handle them accordingly\n",
    "sales_data.fillna(0, inplace=True)  # Assuming missing values mean 0"
   ]
  },
  {
   "cell_type": "code",
   "execution_count": 8,
   "metadata": {},
   "outputs": [
    {
     "name": "stdout",
     "output_type": "stream",
     "text": [
      "        Date  Store  Promo  Promo2  School_Holiday  Customers  Sales  Weekday  \\\n",
      "0 2021-01-01      1      0       0               0        124      0        4   \n",
      "1 2021-01-02      1      0       0               0         87      0        5   \n",
      "2 2021-01-03      1      1       0               0         74    778        6   \n",
      "3 2021-01-04      1      1       0               0          0      0        0   \n",
      "4 2021-01-05      1      1       0               0         76   1002        1   \n",
      "\n",
      "   Weekend  Day  Month  Year  Store_Type_pharmacy  Store_Type_supermarket  \\\n",
      "0        0    1      1  2021                False                    True   \n",
      "1        1    2      1  2021                 True                   False   \n",
      "2        1    3      1  2021                False                    True   \n",
      "3        0    4      1  2021                False                    True   \n",
      "4        0    5      1  2021                 True                   False   \n",
      "\n",
      "   Store_Status_1  \n",
      "0            True  \n",
      "1            True  \n",
      "2            True  \n",
      "3           False  \n",
      "4            True  \n"
     ]
    }
   ],
   "source": [
    "# Convert Date column to datetime\n",
    "sales_data['Date'] = pd.to_datetime(sales_data['Date'])\n",
    "\n",
    "# Extract additional features\n",
    "sales_data['Weekday'] = sales_data['Date'].dt.weekday\n",
    "sales_data['Weekend'] = (sales_data['Weekday'] >= 5).astype(int)\n",
    "sales_data['Day'] = sales_data['Date'].dt.day\n",
    "sales_data['Month'] = sales_data['Date'].dt.month\n",
    "sales_data['Year'] = sales_data['Date'].dt.year\n",
    "\n",
    "# Convert categorical variables into dummy/indicator variables\n",
    "sales_data = pd.get_dummies(sales_data, columns=['Store_Type', 'Store_Status'], drop_first=True)\n",
    "\n",
    "# Display the first few rows after feature engineering\n",
    "print(sales_data.head())"
   ]
  }
 ],
 "metadata": {
  "kernelspec": {
   "display_name": "streamlit_env",
   "language": "python",
   "name": "python3"
  },
  "language_info": {
   "codemirror_mode": {
    "name": "ipython",
    "version": 3
   },
   "file_extension": ".py",
   "mimetype": "text/x-python",
   "name": "python",
   "nbconvert_exporter": "python",
   "pygments_lexer": "ipython3",
   "version": "3.10.7"
  }
 },
 "nbformat": 4,
 "nbformat_minor": 2
}
